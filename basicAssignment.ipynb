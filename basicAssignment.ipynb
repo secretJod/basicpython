{
  "nbformat": 4,
  "nbformat_minor": 0,
  "metadata": {
    "colab": {
      "provenance": []
    },
    "kernelspec": {
      "name": "python3",
      "display_name": "Python 3"
    },
    "language_info": {
      "name": "python"
    }
  },
  "cells": [
    {
      "cell_type": "code",
      "source": [
        "Q1. Write all the conventions being followed while declaring a variable.\n",
        "Q2. What will happen if we declare a restricted keyword as a variable?\n",
        "Q3. Can we actually declare a string as a variable name?\n",
        "Q4. Is it possible for us to declare “_” as a variable? If so, then write an example of it.\n",
        "Q5. Using an example, explain how the variables in python are dynamic in nature."
      ],
      "metadata": {
        "id": "2f8joPvGEXhp"
      },
      "execution_count": null,
      "outputs": []
    },
    {
      "cell_type": "code",
      "source": [
        "A1. Conventions followed while declaring a variable in Python: a. Variable names must start with a letter (a-z, A-Z) or an underscore (_). b. The remaining characters in the variable name can be letters, numbers (0-9), or underscores. c. Variable names are case-sensitive. d. Variable names should be descriptive and meaningful to represent the data they hold. e. Avoid using Python keywords as variable names."
      ],
      "metadata": {
        "id": "NkAjdXXjFFT5"
      },
      "execution_count": null,
      "outputs": []
    },
    {
      "cell_type": "code",
      "source": [
        "A2. If you declare a restricted keyword as a variable in Python, you will get a syntax error. Python does not allow the use of reserved keywords as variable names as they are predefined for specific purposes in the language."
      ],
      "metadata": {
        "id": "nOsVtUXaFFWN"
      },
      "execution_count": null,
      "outputs": []
    },
    {
      "cell_type": "code",
      "source": [
        "my_string = \"Hello, World!\"\n",
        "print(my_string)\n"
      ],
      "metadata": {
        "id": "ZgaZSiTzFFYk"
      },
      "execution_count": null,
      "outputs": []
    },
    {
      "cell_type": "code",
      "source": [
        "_ = 10\n",
        "print(_)\n"
      ],
      "metadata": {
        "id": "XaY7HWlkFFa4"
      },
      "execution_count": null,
      "outputs": []
    },
    {
      "cell_type": "code",
      "source": [
        "x = 5   # x is an integer\n",
        "print(x)\n",
        "\n",
        "x = \"Hello\"   # x is now a string\n",
        "print(x)\n"
      ],
      "metadata": {
        "id": "vO4uDF69FFyx"
      },
      "execution_count": null,
      "outputs": []
    },
    {
      "cell_type": "code",
      "source": [],
      "metadata": {
        "id": "tU4uj5_UFF32"
      },
      "execution_count": null,
      "outputs": []
    }
  ]
}